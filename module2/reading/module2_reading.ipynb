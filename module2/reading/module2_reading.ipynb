{
 "cells": [
  {
   "cell_type": "markdown",
   "metadata": {},
   "source": [
    "# Module 2 - More Python"
   ]
  },
  {
   "cell_type": "markdown",
   "metadata": {},
   "source": [
    "## 1. 學這堂課要幹麻\n",
    "\n",
    "### 在這堂課你將學會\n",
    "\n",
    "- 物件導向程式設計的概念\n",
    "- 如何透過物件導向的方式設計程式\n",
    "- Python 的物件導向實現方法\n",
    "- Python 的檔案輸入輸出\n",
    "- Python 的編碼概念\n",
    "- Python 的例外處理（Exception）\n",
    "- Python 的 module 概念與管理工具 pip\n",
    "\n",
    "## 2. 課程大綱\n",
    "\n",
    "- Object, Class and OOP\n",
    "- How to design a program? Does this matter?\n",
    "- OOP In Python: Class and Object\n",
    "- File I/O in Python\n",
    "- Dealing with Exception\n",
    "- Python Module and PIP"
   ]
  },
  {
   "cell_type": "markdown",
   "metadata": {
    "collapsed": true
   },
   "source": [
    "---\n",
    "# Object、Class 以及 OOP 物件導向程式設計\n",
    "\n",
    "## 物件導向的歷史\n",
    "\n",
    "## 物件導向的概念\n",
    "\n",
    "### 封裝\n",
    "\n",
    "### 繼承\n",
    "\n",
    "### 多型\n",
    "\n",
    "## 到底什麼是物件導向？"
   ]
  },
  {
   "cell_type": "markdown",
   "metadata": {},
   "source": [
    "---\n",
    "# 如何設計一個程式？這很重要嗎？\n",
    "\n",
    "## 設計程式的流程\n",
    "\n",
    "## 設計工具\n",
    "\n",
    "### UML\n",
    "\n",
    "### DFD\n",
    "\n",
    "## 經驗與直覺"
   ]
  },
  {
   "cell_type": "markdown",
   "metadata": {},
   "source": [
    "---\n",
    "# Python 中的 Class 與 Object\n",
    "\n",
    "## 定義一個 Class\n",
    "\n",
    "## Object 與 Class 的關係\n",
    "\n",
    "## 類別屬性（Field）\n",
    "\n",
    "## 類別方法（Method）\n",
    "\n",
    "### 靜態方法 @classmethod 與 @staticmethod\n",
    "\n",
    "## 類別繼承（Inheritance) "
   ]
  },
  {
   "cell_type": "markdown",
   "metadata": {},
   "source": [
    "---\n",
    "# Python 中的檔案 I/O \n",
    "\n",
    "## 檔案讀取\n",
    "\n",
    "## 檔案寫入\n",
    "\n",
    "## Python 的編碼概念與問題"
   ]
  },
  {
   "cell_type": "markdown",
   "metadata": {},
   "source": [
    "---\n",
    "# 處理例外 Exception\n",
    "\n",
    "## 不同於以往的程式流程概念：例外\n",
    "\n",
    "## 自訂例外"
   ]
  },
  {
   "cell_type": "markdown",
   "metadata": {},
   "source": [
    "---\n",
    "# Python 模組、套件與 pip\n",
    "\n",
    "## 模組 Module 的概念\n",
    "\n",
    "## 分門別類的模組：套件 Package\n",
    "\n",
    "## Python 的套件管理工具：pip"
   ]
  },
  {
   "cell_type": "markdown",
   "metadata": {},
   "source": [
    "---\n",
    "# 延伸閱讀\n",
    "\n",
    "## 深入理解 Python 類別\n",
    "\n",
    "## Python 有私有成員（Private Member）的概念嗎？\n",
    "\n",
    "## pip 與 easy_install\n",
    "\n",
    "## Python Decorator \n"
   ]
  }
 ],
 "metadata": {
  "kernelspec": {
   "display_name": "Python 3",
   "language": "python",
   "name": "python3"
  },
  "language_info": {
   "codemirror_mode": {
    "name": "ipython",
    "version": 3
   },
   "file_extension": ".py",
   "mimetype": "text/x-python",
   "name": "python",
   "nbconvert_exporter": "python",
   "pygments_lexer": "ipython3",
   "version": "3.4.3"
  }
 },
 "nbformat": 4,
 "nbformat_minor": 0
}

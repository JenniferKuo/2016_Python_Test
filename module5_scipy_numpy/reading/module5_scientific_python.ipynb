{
 "cells": [
  {
   "cell_type": "code",
   "execution_count": 212,
   "metadata": {
    "collapsed": true
   },
   "outputs": [],
   "source": [
    "%matplotlib inline"
   ]
  },
  {
   "cell_type": "markdown",
   "metadata": {},
   "source": [
    "# Module 5 - Python And Data Analysis\n",
    "\n",
    "## 學這堂課要幹麻\n",
    "\n",
    "作為一個研究人員或統計人員，你經常要進行各式數學運算，這些數學運算可能涵蓋從基礎的敘述型統計，到一些比較複雜的最佳化問題、微積分、影像處理等。如何運用電腦來加快處理速度便成為做研究或做分析最基本的議題。\n",
    "\n",
    "我們可以看到，市面上有非常多與統計相關的軟體，例如非常經典的 Matlab、萬用的 Excel 以及現在非常火紅的 R ，這些工具都能夠幫助你達到科學運算的目標，那為什麼我們不教這些要教 Python 呢？原因大概有以下幾個：\n",
    "\n",
    "- 軟體免費\n",
    "- 因為這是 Python 課\n",
    "- 寫 Python 好像比較有寫程式的感覺\n",
    "- Python 能夠處理非常多的事情，從架設網頁、撈資料、資料分析整理都可以做\n",
    "- 多學一點不會吃虧\n",
    "\n",
    "當然你可能會聽到別人說「xxx 都用 R ，R 好像比較好誒」、「Matlab 功能超強啊」、「Excel 很快誒」之類的，有些人可能會因為這樣開始想「是不是應該先學⋯⋯」，我個人的看法是，工具沒有好壞，當你真正遇到問題的時候你會需要去選擇適當的工具來處理對的問題，我建議你如果想要以科學運算或資料分析為主業的話，最好是**通通都學**，學得越多你就會有越多的解法來解決各式各樣的問題。\n",
    "\n",
    "這堂課我們將著重在 Python 所提供的幾個非常常見的科學運算工具：NumPy、SciPy 以及 Matplotlib，由於科學計算是一個很廣泛的議題，有非常非常多的領域和不同面向的工具，我們不可能每一個工具都鑽進去介紹，所以這堂課範圍只會涵蓋基本的數據操作，並基於數據操作，帶大家看 Python 如何能夠加快我們運算的速度。\n",
    "\n",
    "另外在這堂課的最後，將會用兩個非常常見的應用來總結我們的內容，一個是線性回歸預測（採用經典的房價預測範例），另外一個則是喜好推薦系統（推薦你喜歡的音樂），我認為先理解了我們學的東西到底有何應用，學習的過程也就不會這麼痛苦。\n",
    "    \n",
    "\n",
    "## 學完這堂課你可以理解\n",
    "\n",
    "- 如何運用 numpy 操作數據\n",
    "    - 數據向量化和向量計算\n",
    "    - 基本的數據操作\n",
    "- 簡單的敘述統計\n",
    "    - 資料圖像化，幫助瞭解資料分佈\n",
    "    - 資料數據分析（平均、中位、標準差...）\n",
    "    - 相對數量的轉換（z-score、四分位數）\n",
    "- 一些 SciPy 提供的科學運算套件\n",
    "- 實例：房價回歸預測與推薦系統\n",
    "\n",
    "## 教材參考\n",
    "\n",
    "這份教材有很大一部分參考了 [Scipy lecture notes](http://www.scipy-lectures.org/index.html) 的內容，很多範例也是來自這裡，這份教材寫的比較鉅細彌遺，講了很多細節，建議有興趣的同學可以參考看看。\n",
    "\n",
    "## 課程大綱"
   ]
  },
  {
   "cell_type": "markdown",
   "metadata": {},
   "source": [
    "-----"
   ]
  },
  {
   "cell_type": "markdown",
   "metadata": {},
   "source": [
    "# IPython 環境\n",
    "\n",
    "還記得 Python 的互動操作環境嗎？在這份教學裡，我們會用比原生的互動環境更強大的 IPython。\n",
    "\n",
    "IPython 改進了 Python shell 的介面呈現和錯誤回報的格式，並且結合了系統 shell 的一些功能，讓我們在快速測試算法時能夠得心應手。"
   ]
  },
  {
   "cell_type": "markdown",
   "metadata": {},
   "source": [
    "### IPython 的安裝\n",
    "\n",
    "在 terminal/cmd 中 `pip install ipython` 就會自動裝好了，但同樣的你要注意一下你裝的是 Python2 還是 Python3 的，在教學中一律使用 Python3 的版本。\n",
    "\n",
    "安裝完成後在命令環境底下鍵入 `ipython` 即可。"
   ]
  },
  {
   "cell_type": "markdown",
   "metadata": {},
   "source": [
    "### IPython 的功能\n",
    "\n",
    "這邊為了畫面簡潔，我把指令都註解掉了，並把輸出放在指令下面。"
   ]
  },
  {
   "cell_type": "code",
   "execution_count": 1,
   "metadata": {
    "collapsed": false
   },
   "outputs": [],
   "source": [
    "# 在 function 的最後面打上 ? 可以查詢該 function 的文件\n",
    "# print?\n",
    "# ......print 的說明文件 (docstring)\n",
    "\n",
    "# 運行目錄底下的 Python shell\n",
    "# %run test.py\n",
    "# ...test.py 的執行結果\n",
    "\n",
    "# 命令補完，如果你忘記了某個指令，但記得前面的幾個字，\n",
    "# 可以用 <tab> 來補完或看看有哪些命令可用\n",
    "# pri<tab> --變成--> print\n",
    "\n",
    "# 命令補完也可以用來查詢 object 的可用 method\n",
    "# np.arra<tab>\n",
    "# np.array         np.array2string  np.array_equal   np.array_equiv   np.array_repr    np.array_split   np.array_str     \n",
    "\n",
    "# 查看當前環境下的變數狀況\n",
    "# %whos\n",
    "# Variable   Type              Data/Info\n",
    "# --------------------------------------\n",
    "# Axes3D     type              <class 'mpl_toolkits.mplot3d.axes3d.Axes3D'>\n",
    "# ...\n",
    "\n",
    "# 計算一段程式碼執行需要花費的時間\n",
    "# %timeit x = 10\n",
    "# 10000000 loops, best of 3: 24.4 ns per loop"
   ]
  },
  {
   "cell_type": "markdown",
   "metadata": {},
   "source": [
    "### Shell 功能"
   ]
  },
  {
   "cell_type": "code",
   "execution_count": 2,
   "metadata": {
    "collapsed": false
   },
   "outputs": [],
   "source": [
    "# 列出當前目錄底下的檔案\n",
    "# ls\n",
    "\n",
    "# 切換工作目錄\n",
    "# cd your_dir"
   ]
  },
  {
   "cell_type": "markdown",
   "metadata": {},
   "source": [
    "# NumPy 數據操作\n",
    "\n",
    "Numpy 是一套賦予 Python 科學運算能力的重要套件，他強化了 Python 原有的數據操作方法，提供了向量、矩陣等在科學運算上常用的計算模式，並針對許多常用的計算提供了最佳化後的實作，讓 Python 的運算速度大幅提升。\n",
    "\n",
    "此外，市面上很多的 Python 套件都是基於 numpy 去實作而成，大多數都採用同樣的數據操作方式，只要掌握了 numpy 的使用方式，未來你如果需要學習其他的科學運算套件也會輕鬆很多。"
   ]
  },
  {
   "cell_type": "markdown",
   "metadata": {},
   "source": [
    "## 安裝 Numpy"
   ]
  },
  {
   "cell_type": "markdown",
   "metadata": {},
   "source": [
    "同樣使用 pip 我們就可以很快的安裝 numpy 以及相依的套件：\n",
    "\n",
    "```bash\n",
    "pip install numpy\n",
    "```"
   ]
  },
  {
   "cell_type": "markdown",
   "metadata": {},
   "source": [
    "## Numpy 數據的基本單位：numpy.array\n",
    "\n",
    "在 Python 裡面有所謂的 list ，能夠一次將大量的資料包裝在同一個容器裡，但在 Python 最初的設計上，list 的主要目的就是「包裝資料」而已，當你需要針對 list 中的資料做處理時，你可能會這樣寫："
   ]
  },
  {
   "cell_type": "code",
   "execution_count": 3,
   "metadata": {
    "collapsed": false
   },
   "outputs": [
    {
     "name": "stdout",
     "output_type": "stream",
     "text": [
      "[2, 3, 5, 7, 10]\n",
      "[2, 3, 5, 7, 10]\n"
     ]
    }
   ],
   "source": [
    "data1 = [1, 2, 3, 4, 5]\n",
    "data2 = [1, 1, 2, 3, 5]\n",
    "\n",
    "# 相加\n",
    "result = []\n",
    "for i in range(len(data1)):\n",
    "    result.append(data1[i]+data2[i])\n",
    "print(result)\n",
    "\n",
    "# 或者簡潔一點\n",
    "result = [i+j for (i,j) in zip(data1, data2)]\n",
    "print(result)"
   ]
  },
  {
   "cell_type": "markdown",
   "metadata": {},
   "source": [
    "我們發現到，在 Python 中要對 list 中的資料進行處理，不外乎就是用 forloop 一個一個取出來算，或者用 Python 預先提供的函數來簡化寫法。\n",
    "\n",
    "當量不多時，這樣的寫法沒什麼問題，但如果我們需要處理大量的資料時（例如十個 list 的相加），會讓我們的程式碼變得繁雜且難以撰寫。\n",
    "\n",
    "另外在科學計算上我們經常會需要運用向量/矩陣運算，這時候使用 Python list 顯得更加的捉襟見肘，不容易同時維持程式碼簡潔與運算效率。\n",
    "\n",
    "這時我們就可以使用 Numpy 提供的 Numpy arrays，他跟以往大家在 C 語言中理解的 array 有點類似又有點不同，numpy array 是針對科學計算設計的 Python 類別，他能夠賦予 Python 向量/矩陣/多維度運算的方便性，也強化了運算本身的效率。\n",
    "\n",
    "接下來我們就來看 numpy array 的基本用法。"
   ]
  },
  {
   "cell_type": "code",
   "execution_count": 4,
   "metadata": {
    "collapsed": false
   },
   "outputs": [],
   "source": [
    "import numpy as np # np 是常見的 numpy 縮寫"
   ]
  },
  {
   "cell_type": "code",
   "execution_count": 5,
   "metadata": {
    "collapsed": false
   },
   "outputs": [
    {
     "data": {
      "text/plain": [
       "(array([1, 2, 3, 4, 5]), array([1, 1, 2, 3, 5]))"
      ]
     },
     "execution_count": 5,
     "metadata": {},
     "output_type": "execute_result"
    }
   ],
   "source": [
    "# Numpy array 可以基於原本的 list 來建立\n",
    "\n",
    "data1 = np.array([1,2,3,4,5])\n",
    "data2 = np.array([1,1,2,3,5])\n",
    "data1, data2"
   ]
  },
  {
   "cell_type": "code",
   "execution_count": 6,
   "metadata": {
    "collapsed": false
   },
   "outputs": [
    {
     "data": {
      "text/plain": [
       "array([ 2,  3,  5,  7, 10])"
      ]
     },
     "execution_count": 6,
     "metadata": {},
     "output_type": "execute_result"
    }
   ],
   "source": [
    "# 方便的運算（向量加法）\n",
    "result = data1 + data2\n",
    "result"
   ]
  },
  {
   "cell_type": "code",
   "execution_count": 7,
   "metadata": {
    "collapsed": false
   },
   "outputs": [],
   "source": [
    "# 比較一下運算速度（因為會影響 notebook 撰寫所以註解掉了）\n",
    "# data1_list = [1,2,3,4,5]\n",
    "# data2_list = [1,1,2,3,5]\n",
    "# %timeit [i+j for (i,j) in zip(data1_list, data2_list)]\n",
    "# %timeit data1+data2\n",
    "\n",
    "# 在我的電腦上結果分別為（人生中最接近奈米的時候）：\n",
    "# 1000000 loops, best of 3: 1.19 µs per loop\n",
    "# 1000000 loops, best of 3: 481 ns per loop\n",
    "\n",
    "# 備註：1ns = 10^-9 sec, 1µs = 10^-6 sec\n",
    "# 1 nanosecond(ns) = 0.001 microseconds(µs)"
   ]
  },
  {
   "cell_type": "code",
   "execution_count": 8,
   "metadata": {
    "collapsed": false
   },
   "outputs": [
    {
     "data": {
      "text/plain": [
       "(1, (5,), 5)"
      ]
     },
     "execution_count": 8,
     "metadata": {},
     "output_type": "execute_result"
    }
   ],
   "source": [
    "# array 的特性觀察\n",
    "data1.ndim, data1.shape, len(data1)"
   ]
  },
  {
   "cell_type": "code",
   "execution_count": 9,
   "metadata": {
    "collapsed": false
   },
   "outputs": [
    {
     "data": {
      "text/plain": [
       "(array([[1, 2, 3, 4, 5],\n",
       "        [1, 1, 2, 3, 5]]), 2, (2, 5), 2)"
      ]
     },
     "execution_count": 9,
     "metadata": {},
     "output_type": "execute_result"
    }
   ],
   "source": [
    "# 多維度\n",
    "data3 = np.array([[1,2,3,4,5], [1,1,2,3,5]])\n",
    "data3, data3.ndim, data3.shape, len(data3)"
   ]
  },
  {
   "cell_type": "markdown",
   "metadata": {},
   "source": [
    "## 常用來製作 array 的方法\n",
    "\n",
    "在上面我麼製作 array 的方法都是一個一個打出數字，但在科學運算上我們經常會需要製作各式各樣的向量或矩陣，一個一個打其實非常浪費時間，因此 numpy 提供了很多不同的方法來製作 array："
   ]
  },
  {
   "cell_type": "markdown",
   "metadata": {},
   "source": [
    "### 依據範圍來建立"
   ]
  },
  {
   "cell_type": "code",
   "execution_count": 10,
   "metadata": {
    "collapsed": false
   },
   "outputs": [
    {
     "data": {
      "text/plain": [
       "array([0, 1, 2, 3, 4, 5, 6, 7, 8, 9])"
      ]
     },
     "execution_count": 10,
     "metadata": {},
     "output_type": "execute_result"
    }
   ],
   "source": [
    "a = np.arange(10)  # 一長條\n",
    "a"
   ]
  },
  {
   "cell_type": "code",
   "execution_count": 11,
   "metadata": {
    "collapsed": false
   },
   "outputs": [
    {
     "data": {
      "text/plain": [
       "array([ 1,  3,  5,  7,  9, 11, 13, 15, 17, 19])"
      ]
     },
     "execution_count": 11,
     "metadata": {},
     "output_type": "execute_result"
    }
   ],
   "source": [
    "b = np.arange(1, 20, 2) # 很像 range 的使用方式，不包括結尾\n",
    "b"
   ]
  },
  {
   "cell_type": "markdown",
   "metadata": {},
   "source": [
    "### 依據元素點的數量來建立"
   ]
  },
  {
   "cell_type": "code",
   "execution_count": 12,
   "metadata": {
    "collapsed": false
   },
   "outputs": [
    {
     "data": {
      "text/plain": [
       "array([  0.        ,   3.33333333,   6.66666667,  10.        ])"
      ]
     },
     "execution_count": 12,
     "metadata": {},
     "output_type": "execute_result"
    }
   ],
   "source": [
    "c = np.linspace(0, 10, 4) # 起始, 結束, 點的數量\n",
    "c"
   ]
  },
  {
   "cell_type": "code",
   "execution_count": 13,
   "metadata": {
    "collapsed": false
   },
   "outputs": [
    {
     "data": {
      "text/plain": [
       "array([ 0. ,  0.2,  0.4,  0.6,  0.8])"
      ]
     },
     "execution_count": 13,
     "metadata": {},
     "output_type": "execute_result"
    }
   ],
   "source": [
    "d = np.linspace(0, 1, 5, endpoint=False) # 不包括結尾點\n",
    "d"
   ]
  },
  {
   "cell_type": "markdown",
   "metadata": {},
   "source": [
    "### 非常常用的各式 arrays （其實可以理解為向量或矩陣了）"
   ]
  },
  {
   "cell_type": "code",
   "execution_count": 14,
   "metadata": {
    "collapsed": false
   },
   "outputs": [
    {
     "data": {
      "text/plain": [
       "array([[ 1.,  1.,  1.,  1.],\n",
       "       [ 1.,  1.,  1.,  1.],\n",
       "       [ 1.,  1.,  1.,  1.],\n",
       "       [ 1.,  1.,  1.,  1.]])"
      ]
     },
     "execution_count": 14,
     "metadata": {},
     "output_type": "execute_result"
    }
   ],
   "source": [
    "all_ones_matrix = np.ones((4, 4)) # <-- 注意裡面的是 tuple\n",
    "all_ones_matrix"
   ]
  },
  {
   "cell_type": "code",
   "execution_count": 15,
   "metadata": {
    "collapsed": false
   },
   "outputs": [
    {
     "data": {
      "text/plain": [
       "array([ 1.,  1.,  1.,  1.])"
      ]
     },
     "execution_count": 15,
     "metadata": {},
     "output_type": "execute_result"
    }
   ],
   "source": [
    "all_ones_vector = np.ones(4)\n",
    "all_ones_vector"
   ]
  },
  {
   "cell_type": "code",
   "execution_count": 16,
   "metadata": {
    "collapsed": false
   },
   "outputs": [
    {
     "data": {
      "text/plain": [
       "array([[ 0.,  0.,  0.,  0.],\n",
       "       [ 0.,  0.,  0.,  0.],\n",
       "       [ 0.,  0.,  0.,  0.],\n",
       "       [ 0.,  0.,  0.,  0.]])"
      ]
     },
     "execution_count": 16,
     "metadata": {},
     "output_type": "execute_result"
    }
   ],
   "source": [
    "all_zeros_matrix = np.zeros((4, 4))\n",
    "all_zeros_matrix"
   ]
  },
  {
   "cell_type": "code",
   "execution_count": 17,
   "metadata": {
    "collapsed": false
   },
   "outputs": [
    {
     "data": {
      "text/plain": [
       "array([ 0.,  0.,  0.,  0.])"
      ]
     },
     "execution_count": 17,
     "metadata": {},
     "output_type": "execute_result"
    }
   ],
   "source": [
    "all_zeros_vector = np.zeros(4)\n",
    "all_zeros_vector"
   ]
  },
  {
   "cell_type": "code",
   "execution_count": 18,
   "metadata": {
    "collapsed": false
   },
   "outputs": [
    {
     "data": {
      "text/plain": [
       "array([[1, 0, 0, 0, 0, 0],\n",
       "       [0, 2, 0, 0, 0, 0],\n",
       "       [0, 0, 3, 0, 0, 0],\n",
       "       [0, 0, 0, 4, 0, 0],\n",
       "       [0, 0, 0, 0, 5, 0],\n",
       "       [0, 0, 0, 0, 0, 6]])"
      ]
     },
     "execution_count": 18,
     "metadata": {},
     "output_type": "execute_result"
    }
   ],
   "source": [
    "# 對角矩陣\n",
    "diag_matrix = np.diag(np.array([1,2,3,4,5,6]))\n",
    "diag_matrix"
   ]
  },
  {
   "cell_type": "code",
   "execution_count": 19,
   "metadata": {
    "collapsed": false
   },
   "outputs": [
    {
     "data": {
      "text/plain": [
       "array([[ 1.,  0.,  0.],\n",
       "       [ 0.,  1.,  0.],\n",
       "       [ 0.,  0.,  1.]])"
      ]
     },
     "execution_count": 19,
     "metadata": {},
     "output_type": "execute_result"
    }
   ],
   "source": [
    "# identity matrix\n",
    "id_matrix = np.identity(3)\n",
    "id_matrix"
   ]
  },
  {
   "cell_type": "code",
   "execution_count": 20,
   "metadata": {
    "collapsed": false
   },
   "outputs": [
    {
     "data": {
      "text/plain": [
       "array([[ 1.,  0.,  0.],\n",
       "       [ 0.,  1.,  0.],\n",
       "       [ 0.,  0.,  1.]])"
      ]
     },
     "execution_count": 20,
     "metadata": {},
     "output_type": "execute_result"
    }
   ],
   "source": [
    "# 跟 identity 非常像的 eye，numpy 裡面有很多函數其實功能很類似或一樣\n",
    "eye_matrix = np.eye(3)\n",
    "eye_matrix"
   ]
  },
  {
   "cell_type": "markdown",
   "metadata": {},
   "source": [
    "### 隨機生成"
   ]
  },
  {
   "cell_type": "code",
   "execution_count": 21,
   "metadata": {
    "collapsed": false
   },
   "outputs": [
    {
     "data": {
      "text/plain": [
       "array([ 0.92095054,  0.71859193,  0.53769811,  0.77339386])"
      ]
     },
     "execution_count": 21,
     "metadata": {},
     "output_type": "execute_result"
    }
   ],
   "source": [
    "random_nums = np.random.rand(4) # [0, 1]\n",
    "random_nums"
   ]
  },
  {
   "cell_type": "code",
   "execution_count": 22,
   "metadata": {
    "collapsed": false
   },
   "outputs": [
    {
     "data": {
      "text/plain": [
       "array([ 1.29323846,  0.44613052,  0.54794214,  0.24444671])"
      ]
     },
     "execution_count": 22,
     "metadata": {},
     "output_type": "execute_result"
    }
   ],
   "source": [
    "# 高斯分佈版，回傳的數列符合高斯分佈（常態分佈）\n",
    "gaussian_nums = np.random.randn(4)\n",
    "gaussian_nums"
   ]
  },
  {
   "cell_type": "markdown",
   "metadata": {},
   "source": [
    "### 堆積、重複同一個 array"
   ]
  },
  {
   "cell_type": "code",
   "execution_count": 62,
   "metadata": {
    "collapsed": false
   },
   "outputs": [
    {
     "data": {
      "text/plain": [
       "array([0, 1, 2, 3])"
      ]
     },
     "execution_count": 62,
     "metadata": {},
     "output_type": "execute_result"
    }
   ],
   "source": [
    "a = np.arange(4)\n",
    "a"
   ]
  },
  {
   "cell_type": "code",
   "execution_count": 63,
   "metadata": {
    "collapsed": false
   },
   "outputs": [
    {
     "data": {
      "text/plain": [
       "array([0, 1, 2, 3, 0, 1, 2, 3])"
      ]
     },
     "execution_count": 63,
     "metadata": {},
     "output_type": "execute_result"
    }
   ],
   "source": [
    "np.tile(a, 2)"
   ]
  },
  {
   "cell_type": "code",
   "execution_count": 76,
   "metadata": {
    "collapsed": false
   },
   "outputs": [
    {
     "data": {
      "text/plain": [
       "array([[0, 1, 2, 3],\n",
       "       [0, 1, 2, 3]])"
      ]
     },
     "execution_count": 76,
     "metadata": {},
     "output_type": "execute_result"
    }
   ],
   "source": [
    "np.tile(a, (2, 1))  # 2 rows x 1 col"
   ]
  },
  {
   "cell_type": "code",
   "execution_count": 74,
   "metadata": {
    "collapsed": false
   },
   "outputs": [
    {
     "data": {
      "text/plain": [
       "array([[0, 1, 2, 3, 0, 1, 2, 3],\n",
       "       [0, 1, 2, 3, 0, 1, 2, 3],\n",
       "       [0, 1, 2, 3, 0, 1, 2, 3]])"
      ]
     },
     "execution_count": 74,
     "metadata": {},
     "output_type": "execute_result"
    }
   ],
   "source": [
    "np.tile(a, (3, 2)) # 3 rows x 2 cols"
   ]
  },
  {
   "cell_type": "markdown",
   "metadata": {},
   "source": [
    "## Array 的基本性質\n",
    "\n",
    "Numpy 跟 Python list 一樣能夠儲存各式各樣的元素，我們可以透過 `dtype` 來檢查或在建立 array 時指定該 array 的性質。"
   ]
  },
  {
   "cell_type": "code",
   "execution_count": 40,
   "metadata": {
    "collapsed": false
   },
   "outputs": [
    {
     "data": {
      "text/plain": [
       "dtype('int64')"
      ]
     },
     "execution_count": 40,
     "metadata": {},
     "output_type": "execute_result"
    }
   ],
   "source": [
    "c = np.array([1, 2, 3, 4, 5])\n",
    "c.dtype"
   ]
  },
  {
   "cell_type": "code",
   "execution_count": 41,
   "metadata": {
    "collapsed": false
   },
   "outputs": [
    {
     "data": {
      "text/plain": [
       "dtype('float64')"
      ]
     },
     "execution_count": 41,
     "metadata": {},
     "output_type": "execute_result"
    }
   ],
   "source": [
    "d = np.array([.1, .2, .3, .4, .5])\n",
    "d.dtype"
   ]
  },
  {
   "cell_type": "code",
   "execution_count": 42,
   "metadata": {
    "collapsed": false
   },
   "outputs": [
    {
     "data": {
      "text/plain": [
       "dtype('float64')"
      ]
     },
     "execution_count": 42,
     "metadata": {},
     "output_type": "execute_result"
    }
   ],
   "source": [
    "e = np.array([1, 2, 3, 4, 5], dtype=float)\n",
    "e.dtype"
   ]
  },
  {
   "cell_type": "code",
   "execution_count": 44,
   "metadata": {
    "collapsed": false
   },
   "outputs": [
    {
     "data": {
      "text/plain": [
       "dtype('bool')"
      ]
     },
     "execution_count": 44,
     "metadata": {},
     "output_type": "execute_result"
    }
   ],
   "source": [
    "f = np.array([0, 1, 0, 0, 1, 1], dtype=bool)\n",
    "f.dtype"
   ]
  },
  {
   "cell_type": "code",
   "execution_count": 49,
   "metadata": {
    "collapsed": false
   },
   "outputs": [
    {
     "data": {
      "text/plain": [
       "dtype('<U5')"
      ]
     },
     "execution_count": 49,
     "metadata": {},
     "output_type": "execute_result"
    }
   ],
   "source": [
    "g = np.array(['hello', 'b', 'cde', 'fghi'])\n",
    "g.dtype  # 指小於五個 Unicode"
   ]
  },
  {
   "cell_type": "markdown",
   "metadata": {},
   "source": [
    "## Array 的元素操作：indexing and slicing\n",
    "\n",
    "Array 的操作方式基本上跟 Python list 類似，也有 slicing 的操作："
   ]
  },
  {
   "cell_type": "code",
   "execution_count": 51,
   "metadata": {
    "collapsed": false
   },
   "outputs": [
    {
     "data": {
      "text/plain": [
       "array([0, 1, 2, 3, 4, 5, 6, 7, 8, 9])"
      ]
     },
     "execution_count": 51,
     "metadata": {},
     "output_type": "execute_result"
    }
   ],
   "source": [
    "a = np.arange(10)\n",
    "a"
   ]
  },
  {
   "cell_type": "code",
   "execution_count": 52,
   "metadata": {
    "collapsed": false
   },
   "outputs": [
    {
     "data": {
      "text/plain": [
       "array([0, 1, 2])"
      ]
     },
     "execution_count": 52,
     "metadata": {},
     "output_type": "execute_result"
    }
   ],
   "source": [
    "a[:3] # 從頭選到...（不含結尾）"
   ]
  },
  {
   "cell_type": "code",
   "execution_count": 54,
   "metadata": {
    "collapsed": false
   },
   "outputs": [
    {
     "data": {
      "text/plain": [
       "array([1, 2, 3, 4])"
      ]
     },
     "execution_count": 54,
     "metadata": {},
     "output_type": "execute_result"
    }
   ],
   "source": [
    "a[1:5] # 選取範圍（不含結尾）"
   ]
  },
  {
   "cell_type": "code",
   "execution_count": 55,
   "metadata": {
    "collapsed": false
   },
   "outputs": [
    {
     "data": {
      "text/plain": [
       "array([1, 3, 5, 7])"
      ]
     },
     "execution_count": 55,
     "metadata": {},
     "output_type": "execute_result"
    }
   ],
   "source": [
    "a[1:8:2] # 選取範圍，並根據某個值步進"
   ]
  },
  {
   "cell_type": "code",
   "execution_count": 57,
   "metadata": {
    "collapsed": false
   },
   "outputs": [
    {
     "data": {
      "text/plain": [
       "array([8, 9])"
      ]
     },
     "execution_count": 57,
     "metadata": {},
     "output_type": "execute_result"
    }
   ],
   "source": [
    "a[8:] # 從 ... 選到結尾"
   ]
  },
  {
   "cell_type": "code",
   "execution_count": 59,
   "metadata": {
    "collapsed": false
   },
   "outputs": [
    {
     "data": {
      "text/plain": [
       "array([0, 2, 4, 6, 8])"
      ]
     },
     "execution_count": 59,
     "metadata": {},
     "output_type": "execute_result"
    }
   ],
   "source": [
    "a[::2] # 從頭到尾，步進式"
   ]
  },
  {
   "cell_type": "code",
   "execution_count": 60,
   "metadata": {
    "collapsed": false
   },
   "outputs": [
    {
     "data": {
      "text/plain": [
       "array([9, 8, 7, 6, 5, 4, 3, 2, 1, 0])"
      ]
     },
     "execution_count": 60,
     "metadata": {},
     "output_type": "execute_result"
    }
   ],
   "source": [
    "a[::-1] # 倒著選"
   ]
  },
  {
   "cell_type": "markdown",
   "metadata": {},
   "source": [
    "### Copy 和 view 的概念\n",
    "\n",
    "如果你記得 C 裡面的指標，就會知道指標跟真實的值是不同的概念，指標是「一個變數的位址」而「值」是變數的內容。\n",
    "\n",
    "在 numpy 裡面有著類似的概念，當我們透過 slicing & indexing 的方式去「觀察」某一推數據時，有時候我們取得的是 view，如果改變 view 的內容，原本的數據也會被改動。\n",
    "\n",
    "然而有時候我們取得的是 copy，改變 copy 的內容並不會影響到原本的數據。\n",
    "\n",
    "這個概念在剛開始接處的時候可能會有點晦澀，但理解這件事情可能可以幫助你避免某些不必要的 bug。"
   ]
  },
  {
   "cell_type": "code",
   "execution_count": 77,
   "metadata": {
    "collapsed": false
   },
   "outputs": [
    {
     "data": {
      "text/plain": [
       "array([0, 1, 2, 3, 4, 5, 6, 7, 8, 9])"
      ]
     },
     "execution_count": 77,
     "metadata": {},
     "output_type": "execute_result"
    }
   ],
   "source": [
    "# 建立一個原始 array\n",
    "original_array = np.arange(10)\n",
    "original_array"
   ]
  },
  {
   "cell_type": "code",
   "execution_count": 78,
   "metadata": {
    "collapsed": false
   },
   "outputs": [
    {
     "data": {
      "text/plain": [
       "array([0, 2, 4, 6, 8])"
      ]
     },
     "execution_count": 78,
     "metadata": {},
     "output_type": "execute_result"
    }
   ],
   "source": [
    "# 從原始 array 中取出某個部份給另外一個 array\n",
    "another_array = original_array[::2]\n",
    "another_array"
   ]
  },
  {
   "cell_type": "code",
   "execution_count": 79,
   "metadata": {
    "collapsed": false
   },
   "outputs": [
    {
     "data": {
      "text/plain": [
       "array([20,  2,  4,  6,  8])"
      ]
     },
     "execution_count": 79,
     "metadata": {},
     "output_type": "execute_result"
    }
   ],
   "source": [
    "# 更改 another_array 的某些內容\n",
    "another_array[0] = 20\n",
    "another_array"
   ]
  },
  {
   "cell_type": "code",
   "execution_count": 80,
   "metadata": {
    "collapsed": false
   },
   "outputs": [
    {
     "data": {
      "text/plain": [
       "array([20,  1,  2,  3,  4,  5,  6,  7,  8,  9])"
      ]
     },
     "execution_count": 80,
     "metadata": {},
     "output_type": "execute_result"
    }
   ],
   "source": [
    "# 觀察原始 array 發生什麼事了\n",
    "original_array"
   ]
  },
  {
   "cell_type": "code",
   "execution_count": 82,
   "metadata": {
    "collapsed": false
   },
   "outputs": [
    {
     "data": {
      "text/plain": [
       "True"
      ]
     },
     "execution_count": 82,
     "metadata": {},
     "output_type": "execute_result"
    }
   ],
   "source": [
    "# 在上面的範例中我們看到，\n",
    "# 我們更改 another_array 時，original_array 的內容也被更改了。\n",
    "# 這表示這兩個 array 其實是「共用一個空間的」，\n",
    "# another_array 只是 original_array 的一個「view」\n",
    "\n",
    "# 我們可以透過一個方式來觀察兩個 array 是不是共用空間\n",
    "np.may_share_memory(original_array, another_array)\n",
    "\n",
    "# 但注意，這個函數最特殊的地方就是他是「may」，官方文件給了這樣的解釋：\n",
    "# \"A return of True does not necessarily mean that the two arrays share any element. It just means that they might.\"\n",
    "# http://docs.scipy.org/doc/numpy-dev/reference/generated/numpy.may_share_memory.html"
   ]
  },
  {
   "cell_type": "code",
   "execution_count": 86,
   "metadata": {
    "collapsed": false
   },
   "outputs": [
    {
     "data": {
      "text/plain": [
       "array([100,   2,   4,   6,   8])"
      ]
     },
     "execution_count": 86,
     "metadata": {},
     "output_type": "execute_result"
    }
   ],
   "source": [
    "# 如果們需要肯定的複製一個 array，可以用這個方法：\n",
    "the_other_array = original_array[::2].copy()\n",
    "the_other_array[0] = 100\n",
    "the_other_array"
   ]
  },
  {
   "cell_type": "code",
   "execution_count": 88,
   "metadata": {
    "collapsed": false
   },
   "outputs": [
    {
     "data": {
      "text/plain": [
       "array([20,  1,  2,  3,  4,  5,  6,  7,  8,  9])"
      ]
     },
     "execution_count": 88,
     "metadata": {},
     "output_type": "execute_result"
    }
   ],
   "source": [
    "original_array # 注意原本的 array 沒有被更改"
   ]
  },
  {
   "cell_type": "code",
   "execution_count": 89,
   "metadata": {
    "collapsed": false
   },
   "outputs": [
    {
     "data": {
      "text/plain": [
       "False"
      ]
     },
     "execution_count": 89,
     "metadata": {},
     "output_type": "execute_result"
    }
   ],
   "source": [
    "np.may_share_memory(original_array, the_other_array)"
   ]
  },
  {
   "cell_type": "markdown",
   "metadata": {},
   "source": [
    "## 題外話：建立質數 array\n",
    "\n",
    "這是在我參考的網站上給的一個範例，覺得很有趣，而且展現了 numpy 的一些運算方式，所以節錄在這裡："
   ]
  },
  {
   "cell_type": "code",
   "execution_count": 91,
   "metadata": {
    "collapsed": false
   },
   "outputs": [
    {
     "data": {
      "text/plain": [
       "array([ True,  True,  True,  True,  True,  True,  True,  True,  True,\n",
       "        True,  True,  True,  True,  True,  True,  True,  True,  True,\n",
       "        True,  True], dtype=bool)"
      ]
     },
     "execution_count": 91,
     "metadata": {},
     "output_type": "execute_result"
    }
   ],
   "source": [
    "is_prime = np.ones((20, ), dtype=bool)\n",
    "is_prime"
   ]
  },
  {
   "cell_type": "code",
   "execution_count": 92,
   "metadata": {
    "collapsed": false
   },
   "outputs": [
    {
     "data": {
      "text/plain": [
       "array([False, False,  True,  True,  True,  True,  True,  True,  True,\n",
       "        True,  True,  True,  True,  True,  True,  True,  True,  True,\n",
       "        True,  True], dtype=bool)"
      ]
     },
     "execution_count": 92,
     "metadata": {},
     "output_type": "execute_result"
    }
   ],
   "source": [
    "is_prime[:2] = 0\n",
    "is_prime"
   ]
  },
  {
   "cell_type": "code",
   "execution_count": 94,
   "metadata": {
    "collapsed": false
   },
   "outputs": [
    {
     "data": {
      "text/plain": [
       "array([False, False,  True,  True, False,  True, False,  True, False,\n",
       "       False, False,  True, False,  True, False, False, False,  True,\n",
       "       False,  True], dtype=bool)"
      ]
     },
     "execution_count": 94,
     "metadata": {},
     "output_type": "execute_result"
    }
   ],
   "source": [
    "for i in range(2, int(np.sqrt(len(is_prime)))):\n",
    "    is_prime[2*i::i] = False\n",
    "is_prime"
   ]
  },
  {
   "cell_type": "code",
   "execution_count": 97,
   "metadata": {
    "collapsed": false
   },
   "outputs": [
    {
     "data": {
      "text/plain": [
       "[2, 3, 5, 7, 11, 13, 17, 19]"
      ]
     },
     "execution_count": 97,
     "metadata": {},
     "output_type": "execute_result"
    }
   ],
   "source": [
    "prime_num_list = []\n",
    "for i in range(len(is_prime)):\n",
    "    if is_prime[i]: prime_num_list.append(i)\n",
    "prime_num_list"
   ]
  },
  {
   "cell_type": "markdown",
   "metadata": {},
   "source": [
    "## Numpy array 的運算\n",
    "\n",
    "接下來我們要看 numpy 的 array 究竟有怎麼樣的運算特色，這些運算可能跟你過去學習的 Python list 有很大的不同，建議同學自行去嘗試看看不同的運算，並檢驗輸出的結果。\n",
    "\n",
    "在實作時你必須很清楚 np.array 和 list 的運算差異，以免誤用造成奇怪的結果。"
   ]
  },
  {
   "cell_type": "code",
   "execution_count": 104,
   "metadata": {
    "collapsed": false
   },
   "outputs": [
    {
     "data": {
      "text/plain": [
       "array([ 1,  2,  3,  4,  5,  6,  7,  8,  9, 10])"
      ]
     },
     "execution_count": 104,
     "metadata": {},
     "output_type": "execute_result"
    }
   ],
   "source": [
    "# 當我們把 scalar 加上 numpy array (element wise)\n",
    "my_arr = np.arange(10)\n",
    "my_arr + 1"
   ]
  },
  {
   "cell_type": "code",
   "execution_count": 105,
   "metadata": {
    "collapsed": false
   },
   "outputs": [
    {
     "data": {
      "text/plain": [
       "array([ 0,  1,  4,  9, 16, 25, 36, 49, 64, 81])"
      ]
     },
     "execution_count": 105,
     "metadata": {},
     "output_type": "execute_result"
    }
   ],
   "source": [
    "my_arr**2 # Elementwise square"
   ]
  },
  {
   "cell_type": "code",
   "execution_count": 106,
   "metadata": {
    "collapsed": false
   },
   "outputs": [
    {
     "data": {
      "text/plain": [
       "array([   2,    4,    8,   16,   32,   64,  128,  256,  512, 1024])"
      ]
     },
     "execution_count": 106,
     "metadata": {},
     "output_type": "execute_result"
    }
   ],
   "source": [
    "2**(my_arr+1) # A little amazing "
   ]
  },
  {
   "cell_type": "code",
   "execution_count": 111,
   "metadata": {
    "collapsed": false
   },
   "outputs": [
    {
     "data": {
      "text/plain": [
       "array([ 1.,  2.,  3.,  4.])"
      ]
     },
     "execution_count": 111,
     "metadata": {},
     "output_type": "execute_result"
    }
   ],
   "source": [
    "a = np.arange(4)\n",
    "b = np.ones(4)\n",
    "a+b # 必須要是同一個維度"
   ]
  },
  {
   "cell_type": "code",
   "execution_count": 112,
   "metadata": {
    "collapsed": false
   },
   "outputs": [
    {
     "data": {
      "text/plain": [
       "array([0, 1, 4, 9])"
      ]
     },
     "execution_count": 112,
     "metadata": {},
     "output_type": "execute_result"
    }
   ],
   "source": [
    "a = np.arange(4)\n",
    "b = np.arange(4)\n",
    "a*b # 注意，不是向量乘法而是 elementwise 的乘法"
   ]
  },
  {
   "cell_type": "code",
   "execution_count": 113,
   "metadata": {
    "collapsed": false
   },
   "outputs": [
    {
     "data": {
      "text/plain": [
       "array([[ 5.,  5.,  5.,  5.],\n",
       "       [ 5.,  5.,  5.,  5.],\n",
       "       [ 5.,  5.,  5.,  5.],\n",
       "       [ 5.,  5.,  5.,  5.]])"
      ]
     },
     "execution_count": 113,
     "metadata": {},
     "output_type": "execute_result"
    }
   ],
   "source": [
    "# 矩陣也是一樣的\n",
    "a_matrix = np.zeros((4,4))\n",
    "a_matrix + 5"
   ]
  },
  {
   "cell_type": "code",
   "execution_count": 114,
   "metadata": {
    "collapsed": false
   },
   "outputs": [
    {
     "data": {
      "text/plain": [
       "array([[ 6.,  6.,  6.],\n",
       "       [ 6.,  6.,  6.],\n",
       "       [ 6.,  6.,  6.]])"
      ]
     },
     "execution_count": 114,
     "metadata": {},
     "output_type": "execute_result"
    }
   ],
   "source": [
    "# 如果直接把兩個矩陣相乘，結果還是 elementwise 的乘法\n",
    "a_matrix = np.ones((3, 3))*3\n",
    "b_matrix = np.ones((3, 3))*2\n",
    "a_matrix*b_matrix"
   ]
  },
  {
   "cell_type": "code",
   "execution_count": 115,
   "metadata": {
    "collapsed": false
   },
   "outputs": [
    {
     "data": {
      "text/plain": [
       "array([[ 18.,  18.,  18.],\n",
       "       [ 18.,  18.,  18.],\n",
       "       [ 18.,  18.,  18.]])"
      ]
     },
     "execution_count": 115,
     "metadata": {},
     "output_type": "execute_result"
    }
   ],
   "source": [
    "# 如果要矩陣相乘的話\n",
    "a_matrix.dot(b_matrix)"
   ]
  },
  {
   "cell_type": "markdown",
   "metadata": {},
   "source": [
    "## Numpy array 的邏輯運算\n",
    "\n",
    "Numpy array 也可以進行一些邏輯運算，非常好用："
   ]
  },
  {
   "cell_type": "code",
   "execution_count": 128,
   "metadata": {
    "collapsed": false
   },
   "outputs": [
    {
     "data": {
      "text/plain": [
       "array([1, 2, 3, 4, 5])"
      ]
     },
     "execution_count": 128,
     "metadata": {},
     "output_type": "execute_result"
    }
   ],
   "source": [
    "a = np.array([1, 2, 3, 4, 5])\n",
    "a"
   ]
  },
  {
   "cell_type": "code",
   "execution_count": 129,
   "metadata": {
    "collapsed": false
   },
   "outputs": [
    {
     "data": {
      "text/plain": [
       "array([False, False, False,  True,  True], dtype=bool)"
      ]
     },
     "execution_count": 129,
     "metadata": {},
     "output_type": "execute_result"
    }
   ],
   "source": [
    "a > 3"
   ]
  },
  {
   "cell_type": "code",
   "execution_count": 130,
   "metadata": {
    "collapsed": false
   },
   "outputs": [
    {
     "data": {
      "text/plain": [
       "array([False,  True, False, False, False], dtype=bool)"
      ]
     },
     "execution_count": 130,
     "metadata": {},
     "output_type": "execute_result"
    }
   ],
   "source": [
    "a == 2"
   ]
  },
  {
   "cell_type": "code",
   "execution_count": 131,
   "metadata": {
    "collapsed": false
   },
   "outputs": [
    {
     "data": {
      "text/plain": [
       "array([1, 2, 5, 6, 5])"
      ]
     },
     "execution_count": 131,
     "metadata": {},
     "output_type": "execute_result"
    }
   ],
   "source": [
    "b = np.array([1, 2, 5, 6, 5])\n",
    "b"
   ]
  },
  {
   "cell_type": "code",
   "execution_count": 132,
   "metadata": {
    "collapsed": false
   },
   "outputs": [
    {
     "data": {
      "text/plain": [
       "array([ True,  True, False, False,  True], dtype=bool)"
      ]
     },
     "execution_count": 132,
     "metadata": {},
     "output_type": "execute_result"
    }
   ],
   "source": [
    "# 一個元素一個元素比\n",
    "a == b"
   ]
  },
  {
   "cell_type": "code",
   "execution_count": 133,
   "metadata": {
    "collapsed": false
   },
   "outputs": [
    {
     "data": {
      "text/plain": [
       "False"
      ]
     },
     "execution_count": 133,
     "metadata": {},
     "output_type": "execute_result"
    }
   ],
   "source": [
    "# 整個 array 比\n",
    "np.array_equal(a, b)"
   ]
  },
  {
   "cell_type": "code",
   "execution_count": 136,
   "metadata": {
    "collapsed": false
   },
   "outputs": [
    {
     "data": {
      "text/plain": [
       "array([ True,  True, False,  True], dtype=bool)"
      ]
     },
     "execution_count": 136,
     "metadata": {},
     "output_type": "execute_result"
    }
   ],
   "source": [
    "# Logical operations\n",
    "a = np.array([0, 1, 0, 0], dtype=bool)\n",
    "b = np.array([1, 1, 0, 1], dtype=bool)\n",
    "np.logical_or(a, b)\n"
   ]
  },
  {
   "cell_type": "code",
   "execution_count": 137,
   "metadata": {
    "collapsed": false
   },
   "outputs": [
    {
     "data": {
      "text/plain": [
       "array([False,  True, False, False], dtype=bool)"
      ]
     },
     "execution_count": 137,
     "metadata": {},
     "output_type": "execute_result"
    }
   ],
   "source": [
    "np.logical_and(a, b)"
   ]
  },
  {
   "cell_type": "markdown",
   "metadata": {},
   "source": [
    "## Array 本身的運算和一些操作"
   ]
  },
  {
   "cell_type": "code",
   "execution_count": 178,
   "metadata": {
    "collapsed": false
   },
   "outputs": [
    {
     "data": {
      "text/plain": [
       "15"
      ]
     },
     "execution_count": 178,
     "metadata": {},
     "output_type": "execute_result"
    }
   ],
   "source": [
    "# 全部加起來\n",
    "a = np.array([1, 2, 3, 4, 5])\n",
    "np.sum(a)"
   ]
  },
  {
   "cell_type": "code",
   "execution_count": 179,
   "metadata": {
    "collapsed": false
   },
   "outputs": [
    {
     "data": {
      "text/plain": [
       "21"
      ]
     },
     "execution_count": 179,
     "metadata": {},
     "output_type": "execute_result"
    }
   ],
   "source": [
    "# 矩陣的狀況\n",
    "x = np.array([[1, 2, 3,], [4, 5, 6]])\n",
    "np.sum(x)"
   ]
  },
  {
   "cell_type": "code",
   "execution_count": 175,
   "metadata": {
    "collapsed": false
   },
   "outputs": [
    {
     "data": {
      "text/plain": [
       "array([[1, 2, 3],\n",
       "       [4, 5, 6]])"
      ]
     },
     "execution_count": 175,
     "metadata": {},
     "output_type": "execute_result"
    }
   ],
   "source": [
    "x"
   ]
  },
  {
   "cell_type": "code",
   "execution_count": 176,
   "metadata": {
    "collapsed": false
   },
   "outputs": [
    {
     "data": {
      "text/plain": [
       "array([1, 2, 3])"
      ]
     },
     "execution_count": 176,
     "metadata": {},
     "output_type": "execute_result"
    }
   ],
   "source": [
    "# 取出第一個 row\n",
    "x[0, :]"
   ]
  },
  {
   "cell_type": "code",
   "execution_count": 177,
   "metadata": {
    "collapsed": false
   },
   "outputs": [
    {
     "data": {
      "text/plain": [
       "array([2, 5])"
      ]
     },
     "execution_count": 177,
     "metadata": {},
     "output_type": "execute_result"
    }
   ],
   "source": [
    "# 取出 column\n",
    "x[:, 1]"
   ]
  },
  {
   "cell_type": "code",
   "execution_count": 180,
   "metadata": {
    "collapsed": false
   },
   "outputs": [
    {
     "data": {
      "text/plain": [
       "array([5, 7, 9])"
      ]
     },
     "execution_count": 180,
     "metadata": {},
     "output_type": "execute_result"
    }
   ],
   "source": [
    "x.sum(axis=0)  # 從 column 的方向往下疊加"
   ]
  },
  {
   "cell_type": "code",
   "execution_count": 181,
   "metadata": {
    "collapsed": false
   },
   "outputs": [
    {
     "data": {
      "text/plain": [
       "array([ 6, 15])"
      ]
     },
     "execution_count": 181,
     "metadata": {},
     "output_type": "execute_result"
    }
   ],
   "source": [
    "x.sum(axis=1) # 從 row 的方向往右疊加"
   ]
  },
  {
   "cell_type": "code",
   "execution_count": 190,
   "metadata": {
    "collapsed": false
   },
   "outputs": [
    {
     "data": {
      "text/plain": [
       "6"
      ]
     },
     "execution_count": 190,
     "metadata": {},
     "output_type": "execute_result"
    }
   ],
   "source": [
    "x.max() # 整個 array 的做大值"
   ]
  },
  {
   "cell_type": "code",
   "execution_count": 191,
   "metadata": {
    "collapsed": false
   },
   "outputs": [
    {
     "data": {
      "text/plain": [
       "array([4, 5, 6])"
      ]
     },
     "execution_count": 191,
     "metadata": {},
     "output_type": "execute_result"
    }
   ],
   "source": [
    "x.max(axis=0) # 每個 column 的最大值 "
   ]
  },
  {
   "cell_type": "code",
   "execution_count": 192,
   "metadata": {
    "collapsed": false
   },
   "outputs": [
    {
     "data": {
      "text/plain": [
       "1"
      ]
     },
     "execution_count": 192,
     "metadata": {},
     "output_type": "execute_result"
    }
   ],
   "source": [
    "x.min() # 整個 array 的最小值"
   ]
  },
  {
   "cell_type": "code",
   "execution_count": 193,
   "metadata": {
    "collapsed": false
   },
   "outputs": [
    {
     "data": {
      "text/plain": [
       "0"
      ]
     },
     "execution_count": 193,
     "metadata": {},
     "output_type": "execute_result"
    }
   ],
   "source": [
    "x.argmin() # 整個 array 中最大數值的 index"
   ]
  },
  {
   "cell_type": "code",
   "execution_count": 194,
   "metadata": {
    "collapsed": false
   },
   "outputs": [
    {
     "data": {
      "text/plain": [
       "array([2, 2])"
      ]
     },
     "execution_count": 194,
     "metadata": {},
     "output_type": "execute_result"
    }
   ],
   "source": [
    "x.argmax(axis=1) # row 方向上最大數值的 index"
   ]
  },
  {
   "cell_type": "markdown",
   "metadata": {},
   "source": [
    "### 統計相關"
   ]
  },
  {
   "cell_type": "code",
   "execution_count": 201,
   "metadata": {
    "collapsed": false
   },
   "outputs": [],
   "source": [
    "x = np.array([1, 1, 2, 3, 5])\n",
    "y = np.array([[1, 2, 3, 4], [5, 6, 7, 8]])"
   ]
  },
  {
   "cell_type": "code",
   "execution_count": 198,
   "metadata": {
    "collapsed": false
   },
   "outputs": [
    {
     "data": {
      "text/plain": [
       "2.3999999999999999"
      ]
     },
     "execution_count": 198,
     "metadata": {},
     "output_type": "execute_result"
    }
   ],
   "source": [
    "x.mean() # 平均數"
   ]
  },
  {
   "cell_type": "code",
   "execution_count": 204,
   "metadata": {
    "collapsed": false
   },
   "outputs": [
    {
     "data": {
      "text/plain": [
       "array([ 2.5,  6.5])"
      ]
     },
     "execution_count": 204,
     "metadata": {},
     "output_type": "execute_result"
    }
   ],
   "source": [
    "y.mean(axis=1) # row 方向上的 mean"
   ]
  },
  {
   "cell_type": "code",
   "execution_count": 200,
   "metadata": {
    "collapsed": false
   },
   "outputs": [
    {
     "data": {
      "text/plain": [
       "1.4966629547095764"
      ]
     },
     "execution_count": 200,
     "metadata": {},
     "output_type": "execute_result"
    }
   ],
   "source": [
    "x.std() # 標準差"
   ]
  },
  {
   "cell_type": "code",
   "execution_count": 205,
   "metadata": {
    "collapsed": false
   },
   "outputs": [
    {
     "data": {
      "text/plain": [
       "array([ 1.11803399,  1.11803399])"
      ]
     },
     "execution_count": 205,
     "metadata": {},
     "output_type": "execute_result"
    }
   ],
   "source": [
    "y.std(axis=1) # row 方向上的 std"
   ]
  },
  {
   "cell_type": "code",
   "execution_count": 199,
   "metadata": {
    "collapsed": false
   },
   "outputs": [
    {
     "data": {
      "text/plain": [
       "2.0"
      ]
     },
     "execution_count": 199,
     "metadata": {},
     "output_type": "execute_result"
    }
   ],
   "source": [
    "np.median(x) # 中位數"
   ]
  },
  {
   "cell_type": "code",
   "execution_count": 207,
   "metadata": {
    "collapsed": false
   },
   "outputs": [
    {
     "data": {
      "text/plain": [
       "array([ 2.5,  6.5])"
      ]
     },
     "execution_count": 207,
     "metadata": {},
     "output_type": "execute_result"
    }
   ],
   "source": [
    "np.median(y, axis=1) # row 方向上的中位數"
   ]
  },
  {
   "cell_type": "markdown",
   "metadata": {},
   "source": [
    "## 其他運算 functions"
   ]
  },
  {
   "cell_type": "code",
   "execution_count": 149,
   "metadata": {
    "collapsed": false
   },
   "outputs": [
    {
     "data": {
      "text/plain": [
       "array([  8.41470985e-01,   7.31688869e-01,  -4.79425539e-01,\n",
       "        -9.68912422e-01,  -2.44929360e-16])"
      ]
     },
     "execution_count": 149,
     "metadata": {},
     "output_type": "execute_result"
    }
   ],
   "source": [
    "a = np.linspace(1, 2*np.pi, 5)\n",
    "np.sin(a)"
   ]
  },
  {
   "cell_type": "code",
   "execution_count": 150,
   "metadata": {
    "collapsed": false
   },
   "outputs": [
    {
     "data": {
      "text/plain": [
       "array([ 0.        ,  0.84191037,  1.29242113,  1.60188727,  1.83787707])"
      ]
     },
     "execution_count": 150,
     "metadata": {},
     "output_type": "execute_result"
    }
   ],
   "source": [
    "np.log(a)"
   ]
  },
  {
   "cell_type": "code",
   "execution_count": 151,
   "metadata": {
    "collapsed": false
   },
   "outputs": [
    {
     "data": {
      "text/plain": [
       "array([   2.71828183,   10.1837807 ,   38.15255216,  142.93485691,\n",
       "        535.49165552])"
      ]
     },
     "execution_count": 151,
     "metadata": {},
     "output_type": "execute_result"
    }
   ],
   "source": [
    "np.exp(a)"
   ]
  },
  {
   "cell_type": "markdown",
   "metadata": {},
   "source": [
    "## 排序"
   ]
  },
  {
   "cell_type": "code",
   "execution_count": 211,
   "metadata": {
    "collapsed": false
   },
   "outputs": [
    {
     "data": {
      "text/plain": [
       "array([1, 2, 3, 5, 6, 7])"
      ]
     },
     "execution_count": 211,
     "metadata": {},
     "output_type": "execute_result"
    }
   ],
   "source": [
    "a = np.array([1, 5, 7, 6, 2, 3])\n",
    "a.sort()\n",
    "a"
   ]
  },
  {
   "cell_type": "markdown",
   "metadata": {},
   "source": [
    "## 矩陣的轉置"
   ]
  },
  {
   "cell_type": "code",
   "execution_count": 208,
   "metadata": {
    "collapsed": false
   },
   "outputs": [
    {
     "data": {
      "text/plain": [
       "array([[ 0.,  0.,  0.],\n",
       "       [ 1.,  0.,  0.],\n",
       "       [ 1.,  1.,  0.]])"
      ]
     },
     "execution_count": 208,
     "metadata": {},
     "output_type": "execute_result"
    }
   ],
   "source": [
    "a = np.triu(np.ones((3, 3)), 1)\n",
    "a.T"
   ]
  },
  {
   "cell_type": "markdown",
   "metadata": {},
   "source": [
    "## 小結\n",
    "\n",
    "看到這邊你會發現， numpy 提供給我們非常豐富的運算套件和運算方式，目前不用太在意有很多東西你記不起來，只要大概知道有這些東西，要用的時候如果忘了，再去查就好。"
   ]
  },
  {
   "cell_type": "markdown",
   "metadata": {},
   "source": [
    "# Matplotlib pyplot 繪圖\n",
    "\n",
    "Matplotlib 是 Python 界被廣泛使用的繪圖套件，他提供了各式各樣的繪圖方式以及非常高度的客製化方法，你幾乎可以只用 matplotlib 就製作出各種你想要的圖。\n",
    "\n",
    "然而 matplotlib 為了維持他的彈性，他有非常多可以調整的參數，我們希望同學能夠學習 matplotlib 的基本概念和基本的使用方法，因此盡量簡化參數調整的部分。\n",
    "\n",
    "未來同學如果有需要可以到 matplotlib 的官方文件中查詢怎麼樣使用不同的參數來製作自己想要的圖。\n",
    "\n",
    "## 安裝方式\n",
    "\n",
    "```bash\n",
    "$ pip install matplotlib\n",
    "```\n",
    "\n",
    "在啟動你的 ipython 時加上參數 `--matplotlib` ，這讓你在畫圖時不會「卡住」。\n",
    "\n",
    "```bash\n",
    "$ ipython --matplotlib\n",
    "```\n",
    "\n",
    ">如果出現 ValueError: unknown locale: UTF-8 的話，請先鍵入下面兩行：\n",
    "```bash\n",
    "export LC_ALL=en_US.UTF-8\n",
    "export LANG=en_US.UTF-8\n",
    "```"
   ]
  },
  {
   "cell_type": "markdown",
   "metadata": {},
   "source": [
    "## 最簡單的圖畫"
   ]
  },
  {
   "cell_type": "code",
   "execution_count": 272,
   "metadata": {
    "collapsed": false
   },
   "outputs": [
    {
     "data": {
      "image/png": "[encoded data removed]",
      "text/plain": [
       "<matplotlib.figure.Figure at 0x1057047b8>"
      ]
     },
     "metadata": {},
     "output_type": "display_data"
    }
   ],
   "source": [
    "from matplotlib import pyplot as plt # 從 matplotlib 中 import pyplot\n",
    "import numpy as np\n",
    "\n",
    "# 畫出 Sin 跟 Cos 曲線\n",
    "\n",
    "X = np.linspace(-np.pi, np.pi, 256, endpoint=True)\n",
    "C, S = np.cos(X), np.sin(X)\n",
    "\n",
    "# .plot 第一個就是 X 軸，第二個則是 Y 軸\n",
    "\n",
    "plt.plot(X, C)\n",
    "plt.plot(X, S)\n",
    "\n",
    "plt.show()"
   ]
  },
  {
   "cell_type": "markdown",
   "metadata": {},
   "source": [
    "## 修改圖畫的樣式\n",
    "\n",
    "最基本的同行可以滿足我們很多的需求，但有的時候我們會想讓我們的圖更漂亮，或者依據不同的需求去更改。\n",
    "\n",
    "Pyplot 的參數非常非常的多，你可以到 [這裡](http://matplotlib.org/users/customizing.html) 去找你需要的參數。"
   ]
  },
  {
   "cell_type": "markdown",
   "metadata": {},
   "source": [
    "## 畫布大小與線條樣式"
   ]
  },
  {
   "cell_type": "code",
   "execution_count": 224,
   "metadata": {
    "collapsed": false
   },
   "outputs": [
    {
     "data": {
      "image/png": "[encoded data removed]",
      "text/plain": [
       "<matplotlib.figure.Figure at 0x1066bda20>"
      ]
     },
     "metadata": {},
     "output_type": "display_data"
    }
   ],
   "source": [
    "# 首先我們可以定義畫布的大小\n",
    "\n",
    "plt.figure(figsize=(8, 6), dpi=80) # 我要 8x6 inches 且 dpi 為 80 的畫布\n",
    "\n",
    "# 跟第一個範例相同的輸入\n",
    "\n",
    "X = np.linspace(-np.pi, np.pi, 256, endpoint=True)\n",
    "C, S = np.cos(X), np.sin(X)\n",
    "\n",
    "# 先把 Sine 畫上去，設定線條顏色為紅色，線寬 5.0，線條樣式為 --\n",
    "\n",
    "plt.plot(X, S, color=\"red\", linewidth=5.0, linestyle=\"--\")\n",
    "\n",
    "# 再把 Cosine 畫上去\n",
    "\n",
    "plt.plot(X, C, color=\"blue\", linewidth=1.0, linestyle=\"-\")\n",
    "\n",
    "\n",
    "# 顯示出圖（如果你沒有用 --matplotlib 啟動 ipython 的話就要特別加上這個）\n",
    "\n",
    "plt.show()"
   ]
  },
  {
   "cell_type": "markdown",
   "metadata": {},
   "source": [
    "### 改變數值顯示的範圍和數值的間隔"
   ]
  },
  {
   "cell_type": "code",
   "execution_count": 225,
   "metadata": {
    "collapsed": false
   },
   "outputs": [
    {
     "data": {
      "image/png": "[encoded data removed]",
      "text/plain": [
       "<matplotlib.figure.Figure at 0x10647e320>"
      ]
     },
     "metadata": {},
     "output_type": "display_data"
    }
   ],
   "source": [
    "plt.figure(figsize=(8, 6), dpi=80) # 我要 8x6 inches 且 dpi 為 80 的畫布\n",
    "\n",
    "X = np.linspace(-np.pi, np.pi, 256, endpoint=True)\n",
    "C, S = np.cos(X), np.sin(X)\n",
    "\n",
    "plt.plot(X, S, color=\"red\", linewidth=2.0, linestyle=\"-\")\n",
    "plt.plot(X, C, color=\"blue\", linewidth=1.0, linestyle=\"-\")\n",
    "\n",
    "# 設定 X 數值的範圍\n",
    "\n",
    "plt.xlim(-4.0, 4.0)\n",
    "\n",
    "# 設定 X 數值的間隔（裡面的參數是一個 np.array）\n",
    "\n",
    "plt.xticks(np.linspace(-4, 4, 9, endpoint=True))\n",
    "\n",
    "# 設定 Y 數值的範圍\n",
    "\n",
    "plt.ylim(-1.0, 1.0)\n",
    "\n",
    "# 設定 Y 數值的間隔\n",
    "\n",
    "plt.yticks(np.linspace(-1, 1, 10, endpoint=True))\n",
    "\n",
    "plt.show()"
   ]
  },
  {
   "cell_type": "markdown",
   "metadata": {
    "collapsed": true
   },
   "source": [
    "### 移動「軸」\n",
    "\n",
    "在這裡我們會看到怎麼樣移動「軸」以及改變軸的樣式："
   ]
  },
  {
   "cell_type": "code",
   "execution_count": 240,
   "metadata": {
    "collapsed": false
   },
   "outputs": [
    {
     "data": {
      "image/png": "[encoded data removed]",
      "text/plain": [
       "<matplotlib.figure.Figure at 0x10700e898>"
      ]
     },
     "metadata": {},
     "output_type": "display_data"
    }
   ],
   "source": [
    "plt.figure(figsize=(8,6), dpi=80)\n",
    "\n",
    "# 取出目前圖畫中的軸\n",
    "\n",
    "ax = plt.gca() # get current axis\n",
    "\n",
    "# 讓右邊的軸和上面的軸消失（color = none）\n",
    "\n",
    "ax.spines['right'].set_color('none')\n",
    "ax.spines['top'].set_color('none')\n",
    "\n",
    "# 把 X 軸跟 Y 軸的 ticks 移動到下方和左方（你可以試著不打這兩行看看圖會長怎樣）\n",
    "\n",
    "ax.xaxis.set_ticks_position('bottom')\n",
    "ax.yaxis.set_ticks_position('left')\n",
    "\n",
    "# 把底軸跟左軸移動到「資料」的位置\n",
    "\n",
    "ax.spines['bottom'].set_position(('data', 0))\n",
    "ax.spines['left'].set_position(('data', 0))\n",
    "\n",
    "# 把線畫上去\n",
    "\n",
    "plt.plot(X, S, color=\"red\", linewidth=1.0)\n",
    "plt.plot(X, C, color=\"blue\", linewidth=2.0)\n",
    "\n",
    "plt.show()\n",
    "\n",
    "# 更多可以看這裡：\n",
    "# http://matplotlib.org/api/spines_api.html#matplotlib.spines.Spine.set_position"
   ]
  },
  {
   "cell_type": "markdown",
   "metadata": {},
   "source": [
    "### Adding a legend\n",
    "\n",
    "一個圖，當然要有對應的「圖說」，來說明不同顏色的軸是什麼東西："
   ]
  },
  {
   "cell_type": "code",
   "execution_count": 249,
   "metadata": {
    "collapsed": false
   },
   "outputs": [
    {
     "data": {
      "image/png": "[encoded data removed]",
      "text/plain": [
       "<matplotlib.figure.Figure at 0x1069326d8>"
      ]
     },
     "metadata": {},
     "output_type": "display_data"
    }
   ],
   "source": [
    "plt.figure(figsize=(8,6), dpi=80)\n",
    "ax = plt.gca()\n",
    "ax.spines['top'].set_color('none')\n",
    "ax.spines['right'].set_color('none')\n",
    "ax.xaxis.set_ticks_position('bottom')\n",
    "ax.yaxis.set_ticks_position('left')\n",
    "ax.spines['bottom'].set_position(('data', 0))\n",
    "ax.spines['left'].set_position(('data', 0))\n",
    "\n",
    "# 在畫線的時候加上 label 來辨識不同的線\n",
    "\n",
    "plt.plot(X, S, color=\"red\", linewidth=2.5, linestyle=\"--\", label=\"sine\")\n",
    "plt.plot(X, C, color=\"blue\", linewidth=2.5, linestyle=\"-\", label=\"cosine\")\n",
    "\n",
    "# 把圖說塞在左上角，會根據 label 的內容自動產生\n",
    "\n",
    "plt.legend(loc=\"upper left\")\n",
    "\n",
    "plt.show()"
   ]
  },
  {
   "cell_type": "markdown",
   "metadata": {},
   "source": [
    "### 有時候可能會想要標示某些點\n",
    "\n",
    "這個範例稍微複雜了一點，建議大家可以一行一行試，並且一個參數一個參數改，看看圖會有怎麼樣的變化："
   ]
  },
  {
   "cell_type": "code",
   "execution_count": 256,
   "metadata": {
    "collapsed": false,
    "scrolled": true
   },
   "outputs": [
    {
     "data": {
      "image/png": "[encoded data removed]",
      "text/plain": [
       "<matplotlib.figure.Figure at 0x106a83400>"
      ]
     },
     "metadata": {},
     "output_type": "display_data"
    }
   ],
   "source": [
    "# ======= Previous works... =======\n",
    "\n",
    "plt.figure(figsize=(8, 6), dpi=80)\n",
    "\n",
    "plt.plot(X, S, color=\"red\", linewidth=2.5, linestyle=\"-\", label=\"sine\")\n",
    "plt.plot(X, C, color=\"blue\", linewidth=2.5, linestyle=\"-\", label=\"cosine\")\n",
    "\n",
    "plt.legend(loc=\"upper left\")\n",
    "\n",
    "ax = plt.gca()\n",
    "ax.spines['right'].set_color('none')\n",
    "ax.spines['top'].set_color('none')\n",
    "ax.xaxis.set_ticks_position('bottom')\n",
    "ax.spines['bottom'].set_position(('data', 0))\n",
    "ax.yaxis.set_ticks_position('left')\n",
    "ax.spines['left'].set_position(('data', 0))\n",
    "\n",
    "# ====== 以上都是之前講的 =======\n",
    "\n",
    "# 我們想要標示 2/3 pi 上面的點\n",
    "\n",
    "t = 2 * np.pi / 3\n",
    "\n",
    "# 以下開始標示 Sine 線上的某一個點\n",
    "\n",
    "## 畫上 垂直線（ (t, 0) 和 (t, sin(t)) 這兩個點連線 ）\n",
    "\n",
    "plt.plot([t, t],[0, np.sin(t)], color='red', linewidth=2.5, linestyle=\"--\")\n",
    "\n",
    "## 畫上 那個點 (t, sin(t))（這個也可以拿來畫散佈圖，最下面有範例）\n",
    "\n",
    "plt.scatter([t, ],[np.sin(t), ], 50, color='red')\n",
    "\n",
    "## 畫上 說明文字（第一個參數裡面使用了 latex 來描述數學式）\n",
    "\n",
    "plt.annotate(r\"$sin(\\frac{2\\pi}{3})=\\frac{\\sqrt{3}}{2}$\",\n",
    "            xy=(t, np.sin(t)), xycoords=\"data\",\n",
    "            xytext=(+10, +30), textcoords=\"offset points\", fontsize=16,\n",
    "            arrowprops=dict(arrowstyle=\"->\", connectionstyle=\"arc3, rad=.2\"))\n",
    "\n",
    "# 以下開始標示 Cosine 線上的某一個點\n",
    "\n",
    "plt.plot([t,t], [0, np.cos(t)], color='blue', linewidth=2.5, linestyle=\"--\")\n",
    "plt.scatter([t, ], [np.cos(t), ], 50, color=\"blue\")\n",
    "\n",
    "plt.annotate(r'$cos(\\frac{2\\pi}{3})=-\\frac{1}{2}$',\n",
    "             xy=(t, np.cos(t)), xycoords='data',\n",
    "             xytext=(-90, -50), textcoords='offset points', fontsize=16,\n",
    "             arrowprops=dict(arrowstyle=\"->\", connectionstyle=\"arc3,rad=.2\"))\n",
    "\n",
    "plt.show()"
   ]
  },
  {
   "cell_type": "markdown",
   "metadata": {},
   "source": [
    "## Figures and subplots\n",
    "\n",
    "在前面的範例中，我們用 `plt.figure(figsize=(8, 6), dpi=80)` 來改變畫布的一些設定，**figure** 即指整個看得見的視窗，預設會使用編號為 1 的 figure （你也可以指定使用很多個不同的 figures）。\n",
    "\n",
    "在 pyplot 中還有另外一個 **subplots** 的概念，他是指一個畫布上的子圖，以下是範例："
   ]
  },
  {
   "cell_type": "code",
   "execution_count": 260,
   "metadata": {
    "collapsed": false
   },
   "outputs": [
    {
     "data": {
      "image/png": "[encoded data removed]",
      "text/plain": [
       "<matplotlib.figure.Figure at 0x106725d68>"
      ]
     },
     "metadata": {},
     "output_type": "display_data"
    }
   ],
   "source": [
    "X = np.linspace(-np.pi, np.pi, 256)\n",
    "S, C = np.sin(X), np.cos(X)\n",
    "\n",
    "plt.figure(figsize=(8, 6), dpi=80)\n",
    "\n",
    "# 指定子圖 1, 2, 1 (意指把圖分割成 1 row x 2 cols 的 grid，並使用編號 1 的子圖)\n",
    "\n",
    "plt.subplot(1, 2, 1)\n",
    "\n",
    "plt.plot(X, S, color=\"red\", linewidth=2.5, linestyle=\"-\")\n",
    "\n",
    "plt.subplot(1, 2, 2)\n",
    "\n",
    "plt.plot(X, C, color=\"blue\", linewidth=2.5, linestyle=\"-\")\n",
    "\n",
    "plt.show()"
   ]
  },
  {
   "cell_type": "markdown",
   "metadata": {},
   "source": [
    "## 其他種類的圖"
   ]
  },
  {
   "cell_type": "markdown",
   "metadata": {},
   "source": [
    "### Scatter plots"
   ]
  },
  {
   "cell_type": "code",
   "execution_count": 274,
   "metadata": {
    "collapsed": false,
    "scrolled": true
   },
   "outputs": [
    {
     "data": {
      "image/png": "[encoded data removed]",
      "text/plain": [
       "<matplotlib.figure.Figure at 0x1070e0828>"
      ]
     },
     "metadata": {},
     "output_type": "display_data"
    }
   ],
   "source": [
    "n = 200\n",
    "X = np.random.normal(0,1,n)\n",
    "Y = np.random.normal(0,1,n)\n",
    "T = np.arctan2(Y, X)\n",
    "\n",
    "plt.figure(figsize=(8,6), dpi=80)\n",
    "\n",
    "# s = size, c = color\n",
    "\n",
    "plt.scatter(X, Y, s=75, c=T, alpha=0.5)\n",
    "\n",
    "plt.show()"
   ]
  },
  {
   "cell_type": "markdown",
   "metadata": {},
   "source": [
    "### Bar plots"
   ]
  },
  {
   "cell_type": "code",
   "execution_count": 290,
   "metadata": {
    "collapsed": false
   },
   "outputs": [
    {
     "data": {
      "image/png": "[encoded data removed]",
      "text/plain": [
       "<matplotlib.figure.Figure at 0x106ddb160>"
      ]
     },
     "metadata": {},
     "output_type": "display_data"
    }
   ],
   "source": [
    "n = 5\n",
    "X = np.arange(n)\n",
    "Y1 = np.random.uniform(0.5, 1.0, n)\n",
    "Y2 = np.random.uniform(0.5, 1.0, n)\n",
    "\n",
    "plt.figure(figsize=(8,6), dpi=80)\n",
    "\n",
    "plt.bar(X, +Y1, facecolor=\"blue\", edgecolor=\"white\")\n",
    "plt.bar(X, -Y2, facecolor=\"red\", edgecolor=\"white\")\n",
    "\n",
    "# ha=horizontal align, va=vertical align\n",
    "# plt.text(x-pos, y-pos, text)\n",
    "\n",
    "for x, y in zip(X, Y1):\n",
    "    plt.text(x+0.4, y+0.05, \"%.2f\" % y, ha=\"center\", va=\"bottom\")\n",
    "for x, y in zip(X, Y2):\n",
    "    plt.text(x+0.4, -y-0.2, \"%.2f\" % y, ha=\"center\", va=\"bottom\")\n",
    "    \n",
    "plt.ylim(-1.25, +1.25)\n",
    "plt.xlim(-0.5, 5.5)\n",
    "\n",
    "plt.show()"
   ]
  },
  {
   "cell_type": "markdown",
   "metadata": {},
   "source": [
    "### Contour plots\n",
    "\n",
    "我不太確定這個中文叫什麼，以前我們經常在地理課本上看到。"
   ]
  },
  {
   "cell_type": "code",
   "execution_count": 324,
   "metadata": {
    "collapsed": false
   },
   "outputs": [
    {
     "data": {
      "image/png": "[encoded data removed]",
      "text/plain": [
       "<matplotlib.figure.Figure at 0x106603550>"
      ]
     },
     "metadata": {},
     "output_type": "display_data"
    }
   ],
   "source": [
    "# ------ Prepare data ------\n",
    "def f(x, y):\n",
    "    return (1-x/2+x**5+y**3) * np.exp(-x**2-y**2)\n",
    "\n",
    "n = 256\n",
    "x = np.linspace(-3, 3, n)\n",
    "y = np.linspace(-3, 3, n)\n",
    "\n",
    "X, Y = np.meshgrid(x, y) # Return coordinate matrices from coordinate vectors\n",
    "\n",
    "\n",
    "# ----- plot below ------\n",
    "\n",
    "plt.figure(figsize=(8, 6), dpi=80)\n",
    "\n",
    "# 畫出 contour plot\n",
    "\n",
    "plt.contourf(X, Y, f(X, Y), 8, alpha=.75, cmap=\"hot\")\n",
    "\n",
    "\n",
    "# 顯示數值線和數值標籤\n",
    "\n",
    "C = plt.contour(X, Y, f(X, Y), 8, colors=\"black\", linewidth=.5)\n",
    "plt.clabel(C)\n",
    "\n",
    "plt.show()"
   ]
  },
  {
   "cell_type": "markdown",
   "metadata": {},
   "source": [
    "### 3D plots\n",
    "\n",
    "3D 圖一直都是個很有趣的東西，我們需要用另外的套件來畫 3D 圖，在 [這裡](http://matplotlib.org/mpl_toolkits/mplot3d/tutorial.html) 有詳細的教學。"
   ]
  },
  {
   "cell_type": "code",
   "execution_count": 323,
   "metadata": {
    "collapsed": false
   },
   "outputs": [
    {
     "data": {
      "image/png": "[encoded data removed]",
      "text/plain": [
       "<matplotlib.figure.Figure at 0x1070806a0>"
      ]
     },
     "metadata": {},
     "output_type": "display_data"
    }
   ],
   "source": [
    "from mpl_toolkits.mplot3d import Axes3D # 需要使用其他的套件\n",
    "\n",
    "def f(x, y):\n",
    "    return (1-x/2+x**5+y**3) * np.exp(-x**2-y**2)\n",
    "\n",
    "n = 30\n",
    "x = np.linspace(-3, 3, n)\n",
    "y = np.linspace(-3, 3, n)\n",
    "\n",
    "X, Y = np.meshgrid(x, y) # Return coordinate matrices from coordinate vectors\n",
    "\n",
    "\n",
    "# ----- plot below -----\n",
    "\n",
    "fig = plt.figure(figsize=(8, 6), dpi=80)\n",
    "\n",
    "ax = Axes3D(fig)  # 把畫布變成 3D 的，並取出軸\n",
    "\n",
    "# 畫上 3D 圖形, \n",
    "# (X, Y, Z)\n",
    "\n",
    "# 可以自己調調這些參數值，看看出來的結果會怎麼樣變化\n",
    "# rstride = size of array row stride 1~10\n",
    "# cstride = size of array col stride 1~10\n",
    "ax.plot_surface(X, Y, f(X,Y), rstride=1, cstride=2, cmap=\"hot\")\n",
    "\n",
    "# 畫上 contour 圖（與上一個圖相同，但使用 .countourf 這一個 function）\n",
    "\n",
    "ax.contourf(X, Y, f(X,Y), zdir='z', offset=-2, alpha=.75, cmap=\"hot\")\n",
    "ax.set_zlim(-2, 2)\n",
    "\n",
    "plt.show()"
   ]
  },
  {
   "cell_type": "markdown",
   "metadata": {},
   "source": [
    "## References\n",
    "[Scipy lecture notes: 1.4. Matplotlib: plotting](http://www.scipy-lectures.org/intro/matplotlib/matplotlib.html)"
   ]
  },
  {
   "cell_type": "markdown",
   "metadata": {
    "collapsed": true
   },
   "source": [
    "# 延伸閱讀\n",
    "\n",
    "延伸閱讀中，某些文章是在探討數學模型，有些則是直接應用數學模型，建議同學可以先約略了解數學模型的概念，接著直接去應用那些方法，先理解了這些方法能夠達到什麼效果之後，有興趣的同學可以再去理解模型背後的數學過程或意義（當然你要先了解基本的線性代數與微積分，也不要怕看數學式）。\n",
    "\n",
    "[Numpy Array Broadcasting](http://www.scipy-lectures.org/intro/numpy/operations.html#broadcasting)\n",
    "\n",
    "[\"People Who Like This Also Like ... \" ](http://www.benfrederickson.com/distance-metrics/)\n",
    "\n",
    "[矩阵分解在推荐系统中的应用：NMF和经典SVD实战](http://www.letiantian.me/2015-05-25-nmf-svd-recommend/)\n",
    "\n",
    "[机器学习中的数学(1)-回归(regression)、梯度下降(gradient descent)](http://www.cnblogs.com/LeftNotEasy/archive/2010/12/05/mathmatic_in_machine_learning_1_regression_and_gradient_descent.html)"
   ]
  },
  {
   "cell_type": "code",
   "execution_count": null,
   "metadata": {
    "collapsed": true
   },
   "outputs": [],
   "source": []
  }
 ],
 "metadata": {
  "kernelspec": {
   "display_name": "Python 3",
   "language": "python",
   "name": "python3"
  },
  "language_info": {
   "codemirror_mode": {
    "name": "ipython",
    "version": 3
   },
   "file_extension": ".py",
   "mimetype": "text/x-python",
   "name": "python",
   "nbconvert_exporter": "python",
   "pygments_lexer": "ipython3",
   "version": "3.4.3"
  }
 },
 "nbformat": 4,
 "nbformat_minor": 0
}
